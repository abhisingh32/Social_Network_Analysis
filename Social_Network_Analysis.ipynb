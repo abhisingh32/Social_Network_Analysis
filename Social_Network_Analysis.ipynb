{
 "cells": [
  {
   "cell_type": "markdown",
   "metadata": {
    "colab_type": "text",
    "id": "R3NU5_tIJrIR"
   },
   "source": [
    "# **CMPE_256_01: Programming Assignment 2 - Social Network analysis**\n",
    "\n",
    "## **Abhishek Singh: 012566398**"
   ]
  },
  {
   "cell_type": "markdown",
   "metadata": {
    "colab_type": "text",
    "id": "5XwdJf2cJrIS"
   },
   "source": [
    "### I have used the dataset which can be found here:  https://snap.stanford.edu/data/p2p-Gnutella05.html\n",
    "\n",
    "### Gnutella peer-to-peer network, August 5 2002\n",
    "\n",
    "**Dataset information:**\n",
    "\n",
    "A sequence of snapshots of the Gnutella peer-to-peer file sharing network from August 2002. There are total of 9 snapshots of Gnutella network collected in August 2002. Nodes represent hosts in the Gnutella network topology and edges represent connections between the Gnutella hosts. "
   ]
  },
  {
   "cell_type": "code",
   "execution_count": 0,
   "metadata": {
    "colab": {},
    "colab_type": "code",
    "id": "Zzn6RY-4JrIV"
   },
   "outputs": [],
   "source": [
    "import networkx as nx"
   ]
  },
  {
   "cell_type": "code",
   "execution_count": 0,
   "metadata": {
    "colab": {},
    "colab_type": "code",
    "id": "ymwd7zhYJrIh"
   },
   "outputs": [],
   "source": [
    "# Read the dataset using NetworkX library funcitons:\n",
    "\n",
    "G=nx.read_edgelist('Dataset.txt', delimiter=None, nodetype=int)"
   ]
  },
  {
   "cell_type": "code",
   "execution_count": 0,
   "metadata": {
    "colab": {},
    "colab_type": "code",
    "id": "gRqh1rqrJrIk"
   },
   "outputs": [],
   "source": [
    "# Creating a set of undirected graph for additional validation\n",
    "\n",
    "UG=G.to_undirected()"
   ]
  },
  {
   "cell_type": "markdown",
   "metadata": {
    "colab_type": "text",
    "id": "BBss4JOfMhhT"
   },
   "source": [
    "**Q1. Calculate the Number of nodes?**"
   ]
  },
  {
   "cell_type": "code",
   "execution_count": 10,
   "metadata": {
    "colab": {
     "base_uri": "https://localhost:8080/",
     "height": 35
    },
    "colab_type": "code",
    "id": "jy8KvD3jMgss",
    "outputId": "3628922a-e1c7-47bb-c2dd-fae60d952b2f"
   },
   "outputs": [
    {
     "data": {
      "text/plain": [
       "'The number of Nodes of the graph is: 8846'"
      ]
     },
     "execution_count": 10,
     "metadata": {
      "tags": []
     },
     "output_type": "execute_result"
    }
   ],
   "source": [
    "# Counting the number of the nodes of the graph:\n",
    "\n",
    "\"The number of Nodes of the graph is: \" + str(G.number_of_nodes())"
   ]
  },
  {
   "cell_type": "markdown",
   "metadata": {
    "colab_type": "text",
    "id": "VLu5mPXrMpjY"
   },
   "source": [
    "**Q2. Calculate the Number of Edges?**"
   ]
  },
  {
   "cell_type": "code",
   "execution_count": 11,
   "metadata": {
    "colab": {
     "base_uri": "https://localhost:8080/",
     "height": 35
    },
    "colab_type": "code",
    "id": "V2ksedzBJrIt",
    "outputId": "1a0efa59-7861-40d3-9ad0-fbeb8124ad8e"
   },
   "outputs": [
    {
     "data": {
      "text/plain": [
       "'The number of Edges of the graph is: 31839'"
      ]
     },
     "execution_count": 11,
     "metadata": {
      "tags": []
     },
     "output_type": "execute_result"
    }
   ],
   "source": [
    "# Counting the number of the Edges of the graph:\n",
    "\n",
    "\"The number of Edges of the graph is: \" + str(G.number_of_edges())"
   ]
  },
  {
   "cell_type": "markdown",
   "metadata": {
    "colab_type": "text",
    "id": "PgiTVuBeNELx"
   },
   "source": [
    "**Q3. Number of connected components.**"
   ]
  },
  {
   "cell_type": "code",
   "execution_count": 0,
   "metadata": {
    "colab": {},
    "colab_type": "code",
    "id": "f2knd_MPJrI3",
    "outputId": "e6ea4ae6-14a9-4a25-9f3a-0baa489ec846"
   },
   "outputs": [
    {
     "data": {
      "text/plain": [
       "3"
      ]
     },
     "execution_count": 92,
     "metadata": {
      "tags": []
     },
     "output_type": "execute_result"
    }
   ],
   "source": [
    "# Using direct function of NetworkX, the answer is as below:\n",
    "\n",
    "nx.number_connected_components(G)"
   ]
  },
  {
   "cell_type": "code",
   "execution_count": 0,
   "metadata": {
    "colab": {},
    "colab_type": "code",
    "id": "-MG4HTKSJrI-"
   },
   "outputs": [],
   "source": [
    "# Verification by counting all components:\n",
    "cc=nx.connected_components(G)"
   ]
  },
  {
   "cell_type": "code",
   "execution_count": 14,
   "metadata": {
    "colab": {
     "base_uri": "https://localhost:8080/",
     "height": 35
    },
    "colab_type": "code",
    "id": "091rqUiqJrJC",
    "outputId": "c8f7d5f2-f7dd-4977-a039-a419d8744c0f"
   },
   "outputs": [
    {
     "data": {
      "text/plain": [
       "3"
      ]
     },
     "execution_count": 14,
     "metadata": {
      "tags": []
     },
     "output_type": "execute_result"
    }
   ],
   "source": [
    "len(list(cc))"
   ]
  },
  {
   "cell_type": "markdown",
   "metadata": {
    "colab_type": "text",
    "id": "B_pSB74uejtu"
   },
   "source": [
    "**Q4.  The diameter (longest shortest path).?**"
   ]
  },
  {
   "cell_type": "code",
   "execution_count": 0,
   "metadata": {
    "colab": {},
    "colab_type": "code",
    "id": "Z531rCdmJrJO"
   },
   "outputs": [],
   "source": [
    "lar_cc= max(nx.connected_components(G),key=len)"
   ]
  },
  {
   "cell_type": "code",
   "execution_count": 62,
   "metadata": {
    "colab": {
     "base_uri": "https://localhost:8080/",
     "height": 35
    },
    "colab_type": "code",
    "id": "MRLQyv3nJrJS",
    "outputId": "cef5d61b-c4a9-4f9e-9ef3-02edff8903a8"
   },
   "outputs": [
    {
     "data": {
      "text/plain": [
       "'8842'"
      ]
     },
     "execution_count": 62,
     "metadata": {
      "tags": []
     },
     "output_type": "execute_result"
    }
   ],
   "source": [
    "str(len(lar_cc))    #No. of nodes in largest connected component"
   ]
  },
  {
   "cell_type": "code",
   "execution_count": 63,
   "metadata": {
    "colab": {
     "base_uri": "https://localhost:8080/",
     "height": 35
    },
    "colab_type": "code",
    "id": "1ybN9oCFJrJe",
    "outputId": "e09380bf-da60-411e-9006-d353bf1a581c"
   },
   "outputs": [
    {
     "data": {
      "text/plain": [
       "'[8842, 2, 2]'"
      ]
     },
     "execution_count": 63,
     "metadata": {
      "tags": []
     },
     "output_type": "execute_result"
    }
   ],
   "source": [
    "str([len(c) for c in sorted(nx.connected_components(G), key=len, reverse=True)])   # Displaying set of connected components"
   ]
  },
  {
   "cell_type": "code",
   "execution_count": 0,
   "metadata": {
    "colab": {},
    "colab_type": "code",
    "id": "CR8XyUqfJrJl"
   },
   "outputs": [],
   "source": [
    "Gc = max(nx.connected_component_subgraphs(G), key=len)   # Finding graph of biggest connected component"
   ]
  },
  {
   "cell_type": "code",
   "execution_count": 90,
   "metadata": {
    "colab": {
     "base_uri": "https://localhost:8080/",
     "height": 35
    },
    "colab_type": "code",
    "id": "ePYNniQGJrJp",
    "outputId": "5734d610-289b-41ea-a995-ec170cfb8702"
   },
   "outputs": [
    {
     "data": {
      "text/plain": [
       "'Display the diameter as : 9'"
      ]
     },
     "execution_count": 90,
     "metadata": {
      "tags": []
     },
     "output_type": "execute_result"
    }
   ],
   "source": [
    "# Display the diameter of biggest connected component\n",
    "\"Display the diameter as : \"+ str(nx.diameter(Gc)) "
   ]
  },
  {
   "cell_type": "markdown",
   "metadata": {
    "colab_type": "text",
    "id": "gk_qvcK0QqVq"
   },
   "source": [
    "**Q5.  The five nodes with the highest betweeness centrality?**"
   ]
  },
  {
   "cell_type": "code",
   "execution_count": 22,
   "metadata": {
    "colab": {
     "base_uri": "https://localhost:8080/",
     "height": 108
    },
    "colab_type": "code",
    "id": "culvBla9JrJv",
    "outputId": "37068d45-c8e2-4690-b466-355dbd1bd8b3"
   },
   "outputs": [
    {
     "data": {
      "text/plain": [
       "[(3002, 0.011401066276408892),\n",
       " (6319, 0.010579866441405461),\n",
       " (31, 0.010275146012456014),\n",
       " (876, 0.009718247379880434),\n",
       " (842, 0.00857496889133584)]"
      ]
     },
     "execution_count": 22,
     "metadata": {
      "tags": []
     },
     "output_type": "execute_result"
    }
   ],
   "source": [
    "# Solution to show top 5 nodes and their betweenness centrality in descending order:\n",
    "\n",
    "sorted(nx.betweenness_centrality(G).items(), key=lambda x:x[1], reverse=True) [0:5]"
   ]
  },
  {
   "cell_type": "markdown",
   "metadata": {
    "colab_type": "text",
    "id": "vojYbk2tTJ3F"
   },
   "source": [
    "   **      Solution to show ONLY the nodes by removing other parameters:   **"
   ]
  },
  {
   "cell_type": "code",
   "execution_count": 0,
   "metadata": {
    "colab": {},
    "colab_type": "code",
    "id": "cJ38pLRFSNxz"
   },
   "outputs": [],
   "source": [
    "#Calculate all betweeness centrality of entire graph\n",
    "\n",
    "bc=nx.betweenness_centrality(G)"
   ]
  },
  {
   "cell_type": "code",
   "execution_count": 0,
   "metadata": {
    "colab": {},
    "colab_type": "code",
    "id": "URrufieYJrJy"
   },
   "outputs": [],
   "source": [
    "# Fetch betweeness centrality in reverse sorted order\n",
    "\n",
    "bcSortRev=(sorted(bc.items(), key=lambda x: x[1], reverse=True))"
   ]
  },
  {
   "cell_type": "code",
   "execution_count": 0,
   "metadata": {
    "colab": {},
    "colab_type": "code",
    "id": "bsxhpwoHJrJ1"
   },
   "outputs": [],
   "source": [
    "# Logic to extract only the first element which is the betweeness centrality\n",
    "y=[]\n",
    "for i in range(5):\n",
    "    y.append(bcSortRev[:5][i][0])"
   ]
  },
  {
   "cell_type": "code",
   "execution_count": 27,
   "metadata": {
    "colab": {
     "base_uri": "https://localhost:8080/",
     "height": 35
    },
    "colab_type": "code",
    "id": "tleaKfrvJrJ3",
    "outputId": "5a78652b-b996-422d-a70b-917a737d583f"
   },
   "outputs": [
    {
     "data": {
      "text/plain": [
       "'The betweeness centrality of the five nodes with highest betweenness centrality in descending order: [3002, 6319, 31, 876, 842]'"
      ]
     },
     "execution_count": 27,
     "metadata": {
      "tags": []
     },
     "output_type": "execute_result"
    }
   ],
   "source": [
    "\"The betweeness centrality of the five nodes with highest betweenness centrality in descending order: \"+str(y)"
   ]
  },
  {
   "cell_type": "markdown",
   "metadata": {
    "colab_type": "text",
    "id": "h41nSFOzR_Ed"
   },
   "source": [
    "**Q.6  The five nodes with highest PageRank ?**"
   ]
  },
  {
   "cell_type": "code",
   "execution_count": 78,
   "metadata": {
    "colab": {
     "base_uri": "https://localhost:8080/",
     "height": 108
    },
    "colab_type": "code",
    "id": "ZBKTIHxWJrKH",
    "outputId": "ab9614e4-8006-4e58-e3fd-ec04000a7524"
   },
   "outputs": [
    {
     "data": {
      "text/plain": [
       "[(842, 0.0013512120651007853),\n",
       " (386, 0.0013345832326556338),\n",
       " (1676, 0.0013180292063504175),\n",
       " (1020, 0.0013034878945346962),\n",
       " (226, 0.0012857566618831968)]"
      ]
     },
     "execution_count": 78,
     "metadata": {
      "tags": []
     },
     "output_type": "execute_result"
    }
   ],
   "source": [
    "# Solution to show top 5 nodes and their PageRank in descending order:\n",
    "\n",
    "sorted(nx.pagerank(G, alpha=1, weight=None).items(), key=lambda x:x[1], reverse=True)[0:5]"
   ]
  },
  {
   "cell_type": "markdown",
   "metadata": {
    "colab_type": "text",
    "id": "KIfoaPXpW5f3"
   },
   "source": [
    "   **      Solution to show ONLY the nodes by removing other parameters:   **"
   ]
  },
  {
   "cell_type": "code",
   "execution_count": 0,
   "metadata": {
    "colab": {},
    "colab_type": "code",
    "id": "obXGbAMpJrKN"
   },
   "outputs": [],
   "source": [
    "# Calculate all PageRank of entire graph:\n",
    "\n",
    "pr=nx.pagerank(G, alpha=1, weight=None)"
   ]
  },
  {
   "cell_type": "code",
   "execution_count": 0,
   "metadata": {
    "colab": {},
    "colab_type": "code",
    "id": "aiQIWF6IJrKP"
   },
   "outputs": [],
   "source": [
    "# Fetch the Nodes with PageRank in reverse sorted order:\n",
    "\n",
    "prSortRev=(sorted(pr.items(), key=lambda x: x[1], reverse=True))"
   ]
  },
  {
   "cell_type": "code",
   "execution_count": 0,
   "metadata": {
    "colab": {},
    "colab_type": "code",
    "id": "y0IermiNJrKS"
   },
   "outputs": [],
   "source": [
    "# Logic to extract only the first element which is the Node:\n",
    "\n",
    "p=[]\n",
    "for i in range(5):\n",
    "    p.append(prSortRev[:5][i][0])"
   ]
  },
  {
   "cell_type": "code",
   "execution_count": 82,
   "metadata": {
    "colab": {
     "base_uri": "https://localhost:8080/",
     "height": 35
    },
    "colab_type": "code",
    "id": "wpOVwpteJrKU",
    "outputId": "d1c74b38-4c5c-4f44-b943-ef1144e7e349"
   },
   "outputs": [
    {
     "data": {
      "text/plain": [
       "'The PageRank of the five nodes with highest PageRank in descending order: [842, 386, 1676, 1020, 226]'"
      ]
     },
     "execution_count": 82,
     "metadata": {
      "tags": []
     },
     "output_type": "execute_result"
    }
   ],
   "source": [
    "\"The PageRank of the five nodes with highest PageRank in descending order: \" +str(p)"
   ]
  },
  {
   "cell_type": "markdown",
   "metadata": {
    "colab_type": "text",
    "id": "5MDQYpfAX-VE"
   },
   "source": [
    "**Q7. The five nodes with the highest authority score according to HITS ?**"
   ]
  },
  {
   "cell_type": "code",
   "execution_count": 0,
   "metadata": {
    "colab": {},
    "colab_type": "code",
    "id": "Vwis9vmhZaxW"
   },
   "outputs": [],
   "source": [
    "# Calculate authority score for entire graph:\n",
    "\n",
    "h,a=nx.hits(G)"
   ]
  },
  {
   "cell_type": "code",
   "execution_count": 50,
   "metadata": {
    "colab": {
     "base_uri": "https://localhost:8080/",
     "height": 108
    },
    "colab_type": "code",
    "id": "eFQxtxVJY-AK",
    "outputId": "9784bf43-85b2-481d-cf76-3282e95a7eb1"
   },
   "outputs": [
    {
     "data": {
      "text/plain": [
       "[(226, 0.007054372344395064),\n",
       " (229, 0.007031252976262816),\n",
       " (225, 0.006289308588378648),\n",
       " (386, 0.006148276578030861),\n",
       " (389, 0.005875791918669677)]"
      ]
     },
     "execution_count": 50,
     "metadata": {
      "tags": []
     },
     "output_type": "execute_result"
    }
   ],
   "source": [
    "# Fetch the Nodes with authority score in reverse sorted order:\n",
    "\n",
    "sorted(a.items(), key=lambda x: x[1], reverse=True)[0:5]"
   ]
  },
  {
   "cell_type": "markdown",
   "metadata": {
    "colab_type": "text",
    "id": "5K6skyGWZc2T"
   },
   "source": [
    "  **      Solution to show ONLY the nodes by removing other parameters:   **"
   ]
  },
  {
   "cell_type": "code",
   "execution_count": 0,
   "metadata": {
    "colab": {},
    "colab_type": "code",
    "id": "7VUzzy4nJrKZ"
   },
   "outputs": [],
   "source": [
    "# Solution to fetch top 5 nodes and their authority score in descending order:\n",
    "\n",
    "htSortRev=sorted(a.items(), key=lambda x: x[1], reverse=True)"
   ]
  },
  {
   "cell_type": "code",
   "execution_count": 0,
   "metadata": {
    "colab": {},
    "colab_type": "code",
    "id": "0SxasJ2RJrKc"
   },
   "outputs": [],
   "source": [
    "# Logic to extract only the first element which is the Node:\n",
    "\n",
    "ht=[]\n",
    "for i in range(5):\n",
    "    ht.append(htSortRev[:5][i][0])"
   ]
  },
  {
   "cell_type": "code",
   "execution_count": 53,
   "metadata": {
    "colab": {
     "base_uri": "https://localhost:8080/",
     "height": 35
    },
    "colab_type": "code",
    "id": "BRqMfuOsJrKe",
    "outputId": "ee675d19-7591-4b8e-e443-7365eaea3057"
   },
   "outputs": [
    {
     "data": {
      "text/plain": [
       "'The five nodes with the highest authority score according to HITS are: [226, 229, 225, 386, 389]'"
      ]
     },
     "execution_count": 53,
     "metadata": {
      "tags": []
     },
     "output_type": "execute_result"
    }
   ],
   "source": [
    "\"The five nodes with the highest authority score according to HITS are: \" +str(ht)    "
   ]
  },
  {
   "cell_type": "markdown",
   "metadata": {
    "colab_type": "text",
    "id": "Nz5ePMuwPb0k"
   },
   "source": [
    "**Q8 The number of cliques in the graph ?**"
   ]
  },
  {
   "cell_type": "code",
   "execution_count": 56,
   "metadata": {
    "colab": {
     "base_uri": "https://localhost:8080/",
     "height": 35
    },
    "colab_type": "code",
    "id": "cWF_gw5lcRsu",
    "outputId": "76f94e46-27d2-411d-e241-26cea5fa2fa6"
   },
   "outputs": [
    {
     "data": {
      "text/plain": [
       "'The number of cliques in the graph(considering graph as directed) are: 41852'"
      ]
     },
     "execution_count": 56,
     "metadata": {
      "tags": []
     },
     "output_type": "execute_result"
    }
   ],
   "source": [
    "\"The number of cliques in the graph(considering graph as directed) are: \" + str(len(list(nx.enumerate_all_cliques(G))))  "
   ]
  },
  {
   "cell_type": "code",
   "execution_count": 57,
   "metadata": {
    "colab": {
     "base_uri": "https://localhost:8080/",
     "height": 35
    },
    "colab_type": "code",
    "id": "bOxlZWEUJrL9",
    "outputId": "edada18c-494a-43f3-d286-bc8e2b898cbb"
   },
   "outputs": [
    {
     "data": {
      "text/plain": [
       "'The number of cliques in the graph(considering graph as undirected) are: 41852'"
      ]
     },
     "execution_count": 57,
     "metadata": {
      "tags": []
     },
     "output_type": "execute_result"
    }
   ],
   "source": [
    "\"The number of cliques in the graph(considering graph as undirected) are: \" + str(len(list(nx.enumerate_all_cliques(UG))))   "
   ]
  },
  {
   "cell_type": "markdown",
   "metadata": {
    "colab_type": "text",
    "id": "5wfPi2aZPKHH"
   },
   "source": [
    "**Q9 The number of maximal cliques the node with the highest PageRank belongs in?**"
   ]
  },
  {
   "cell_type": "code",
   "execution_count": 58,
   "metadata": {
    "colab": {
     "base_uri": "https://localhost:8080/",
     "height": 35
    },
    "colab_type": "code",
    "id": "BlqX4rdTcbHP",
    "outputId": "0761aba1-5c28-4c67-e7d4-b0b2c5bf4284"
   },
   "outputs": [
    {
     "data": {
      "text/plain": [
       "'Number of maximal cliques the node with the highest PageRank(considering graph as directed) are: 86'"
      ]
     },
     "execution_count": 58,
     "metadata": {
      "tags": []
     },
     "output_type": "execute_result"
    }
   ],
   "source": [
    "# Number of maximal cliques the node with the highest PageRank\n",
    "\"Number of maximal cliques the node with the highest PageRank(considering graph as directed) are: \"+str(nx.number_of_cliques(G, nodes=p[0]))"
   ]
  },
  {
   "cell_type": "code",
   "execution_count": 83,
   "metadata": {
    "colab": {
     "base_uri": "https://localhost:8080/",
     "height": 35
    },
    "colab_type": "code",
    "id": "TI194iS5JrMB",
    "outputId": "a6ddb0bc-e8d5-4ecc-f48f-c0fe37fae560"
   },
   "outputs": [
    {
     "data": {
      "text/plain": [
       "'Number of maximal cliques the node with the highest PageRank(considering graph as undirected) are: 86'"
      ]
     },
     "execution_count": 83,
     "metadata": {
      "tags": []
     },
     "output_type": "execute_result"
    }
   ],
   "source": [
    "# Number of maximal cliques the node with the highest PageRank\n",
    "\"Number of maximal cliques the node with the highest PageRank(considering graph as undirected) are: \"+str(nx.number_of_cliques(UG, nodes=p[0]))"
   ]
  },
  {
   "cell_type": "code",
   "execution_count": 0,
   "metadata": {
    "colab": {},
    "colab_type": "code",
    "id": "RqwUtSFyJrME"
   },
   "outputs": [],
   "source": []
  },
  {
   "cell_type": "code",
   "execution_count": 0,
   "metadata": {
    "colab": {},
    "colab_type": "code",
    "id": "sK9Er4mJJrMK"
   },
   "outputs": [],
   "source": []
  }
 ],
 "metadata": {
  "accelerator": "GPU",
  "colab": {
   "collapsed_sections": [],
   "name": "CMPE_256_Prog_2_v1.ipynb",
   "provenance": [],
   "toc_visible": true,
   "version": "0.3.2"
  },
  "kernelspec": {
   "display_name": "Python 3",
   "language": "python",
   "name": "python3"
  },
  "language_info": {
   "codemirror_mode": {
    "name": "ipython",
    "version": 3
   },
   "file_extension": ".py",
   "mimetype": "text/x-python",
   "name": "python",
   "nbconvert_exporter": "python",
   "pygments_lexer": "ipython3",
   "version": "3.6.5"
  }
 },
 "nbformat": 4,
 "nbformat_minor": 1
}
